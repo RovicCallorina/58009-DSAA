{
  "nbformat": 4,
  "nbformat_minor": 0,
  "metadata": {
    "colab": {
      "provenance": [],
      "authorship_tag": "ABX9TyNmxaYCpSHkw9vFqx2g0s4t",
      "include_colab_link": true
    },
    "kernelspec": {
      "name": "python3",
      "display_name": "Python 3"
    },
    "language_info": {
      "name": "python"
    }
  },
  "cells": [
    {
      "cell_type": "markdown",
      "metadata": {
        "id": "view-in-github",
        "colab_type": "text"
      },
      "source": [
        "<a href=\"https://colab.research.google.com/github/RovicCallorina/58009-DSAA/blob/main/Long_Quiz1.ipynb\" target=\"_parent\"><img src=\"https://colab.research.google.com/assets/colab-badge.svg\" alt=\"Open In Colab\"/></a>"
      ]
    },
    {
      "cell_type": "code",
      "source": [
        "name = \"Robert Victor A Callorina\"\n",
        "reversed_characters = []\n",
        "\n",
        "for char in name[::-1]:\n",
        "    reversed_characters.append(char)\n",
        "\n",
        "for char in reversed_characters:\n",
        "    print(char)"
      ],
      "metadata": {
        "id": "nHYmnn9Z3Vu8",
        "colab": {
          "base_uri": "https://localhost:8080/"
        },
        "outputId": "a88f5de1-2843-478b-ef0d-0c6e8b8f18e3"
      },
      "execution_count": 53,
      "outputs": [
        {
          "output_type": "stream",
          "name": "stdout",
          "text": [
            "a\n",
            "n\n",
            "i\n",
            "r\n",
            "o\n",
            "l\n",
            "l\n",
            "a\n",
            "C\n",
            " \n",
            "A\n",
            " \n",
            "r\n",
            "o\n",
            "t\n",
            "c\n",
            "i\n",
            "V\n",
            " \n",
            "t\n",
            "r\n",
            "e\n",
            "b\n",
            "o\n",
            "R\n"
          ]
        }
      ]
    },
    {
      "cell_type": "code",
      "source": [
        "def is_prime(n):\n",
        "    if n <= 1:\n",
        "        return False\n",
        "    if n == 2:\n",
        "        return True\n",
        "    if n % 2 == 0:\n",
        "        return False\n",
        "    for i in range(3, int(n**0.5) + 1, 2):\n",
        "        if n % i == 0:\n",
        "            return False\n",
        "    return True\n",
        "\n",
        "prime_numbers = []\n",
        "composite_numbers = []\n",
        "\n",
        "num = list(range(1, 11))\n",
        "\n",
        "for n in num:\n",
        "    if is_prime(n):\n",
        "        prime_numbers.append(n)\n",
        "    else:\n",
        "        composite_numbers.append(n)\n",
        "\n",
        "print(\"Prime numbers: \", prime_numbers)\n",
        "print(\"Composite numbers: \", composite_numbers)"
      ],
      "metadata": {
        "colab": {
          "base_uri": "https://localhost:8080/"
        },
        "id": "W-nbjIoiJHjQ",
        "outputId": "29898709-43f1-47d8-f1a2-28f251ccb16a"
      },
      "execution_count": 93,
      "outputs": [
        {
          "output_type": "stream",
          "name": "stdout",
          "text": [
            "Prime numbers:  [2, 3, 5, 7]\n",
            "Composite numbers:  [1, 4, 6, 8, 9, 10]\n"
          ]
        }
      ]
    }
  ]
}