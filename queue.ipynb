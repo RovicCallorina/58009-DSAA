{
  "nbformat": 4,
  "nbformat_minor": 0,
  "metadata": {
    "colab": {
      "provenance": [],
      "authorship_tag": "ABX9TyPUp/iRjRkdGbt8e1EFJEef",
      "include_colab_link": true
    },
    "kernelspec": {
      "name": "python3",
      "display_name": "Python 3"
    },
    "language_info": {
      "name": "python"
    }
  },
  "cells": [
    {
      "cell_type": "markdown",
      "metadata": {
        "id": "view-in-github",
        "colab_type": "text"
      },
      "source": [
        "<a href=\"https://colab.research.google.com/github/RovicCallorina/58009-DSAA/blob/main/queue.ipynb\" target=\"_parent\"><img src=\"https://colab.research.google.com/assets/colab-badge.svg\" alt=\"Open In Colab\"/></a>"
      ]
    },
    {
      "cell_type": "code",
      "source": [
        "Queue = []\n",
        "#enqueue items into queue\n",
        "Queue.append('A')\n",
        "Queue.append('B')\n",
        "Queue.append('C')\n",
        "Queue.append('D')\n",
        "\n",
        "print(Queue)\n",
        "\n",
        "#dequeue items from the queue\n",
        "print(Queue.pop(0))\n",
        "print(Queue.pop(0))\n",
        "print(Queue)"
      ],
      "metadata": {
        "colab": {
          "base_uri": "https://localhost:8080/"
        },
        "id": "VlbVoAMX1XVI",
        "outputId": "a076168d-ff09-459a-ae90-47c1c30e7951"
      },
      "execution_count": null,
      "outputs": [
        {
          "output_type": "stream",
          "name": "stdout",
          "text": [
            "['A', 'B', 'C', 'D']\n",
            "A\n",
            "B\n",
            "['C', 'D']\n"
          ]
        }
      ]
    }
  ]
}