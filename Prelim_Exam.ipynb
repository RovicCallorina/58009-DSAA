{
  "nbformat": 4,
  "nbformat_minor": 0,
  "metadata": {
    "colab": {
      "provenance": [],
      "authorship_tag": "ABX9TyN0KZ9hOLDG0gB/gLZDVc1T",
      "include_colab_link": true
    },
    "kernelspec": {
      "name": "python3",
      "display_name": "Python 3"
    },
    "language_info": {
      "name": "python"
    }
  },
  "cells": [
    {
      "cell_type": "markdown",
      "metadata": {
        "id": "view-in-github",
        "colab_type": "text"
      },
      "source": [
        "<a href=\"https://colab.research.google.com/github/RovicCallorina/58009-DSAA/blob/main/Prelim_Exam.ipynb\" target=\"_parent\"><img src=\"https://colab.research.google.com/assets/colab-badge.svg\" alt=\"Open In Colab\"/></a>"
      ]
    },
    {
      "cell_type": "markdown",
      "source": [
        "Open your Python (Pycharm or Colab) or Dev C++ to create the source code for adding the test scores 26, 49, 98, 87, 62, 75 (30 points)\n",
        "Create a program to sort the test scores in ascending order (20 points)"
      ],
      "metadata": {
        "id": "FOuAynN46vj9"
      }
    },
    {
      "cell_type": "code",
      "source": [
        "test_scores = [26,49,98,87,62,75]\n",
        "\n",
        "total = sum(test_scores)\n",
        "\n",
        "test_scores.sort()\n",
        "\n",
        "print(f\"Total Score: {total}\")\n",
        "print(\"Ascending Score: \")\n",
        "for score in test_scores:\n",
        "    print(score)"
      ],
      "metadata": {
        "colab": {
          "base_uri": "https://localhost:8080/"
        },
        "id": "Fig3sJH86t2m",
        "outputId": "ff21aeca-cef1-48cc-ddcb-d08bf6665d96"
      },
      "execution_count": 24,
      "outputs": [
        {
          "output_type": "stream",
          "name": "stdout",
          "text": [
            "Total Score: 397\n",
            "Ascending Score: \n",
            "26\n",
            "49\n",
            "62\n",
            "75\n",
            "87\n",
            "98\n"
          ]
        }
      ]
    }
  ]
}