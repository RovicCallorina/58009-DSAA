{
  "nbformat": 4,
  "nbformat_minor": 0,
  "metadata": {
    "colab": {
      "provenance": [],
      "authorship_tag": "ABX9TyPI1yX9LZcnpJQ6tL0sV7Y/",
      "include_colab_link": true
    },
    "kernelspec": {
      "name": "python3",
      "display_name": "Python 3"
    },
    "language_info": {
      "name": "python"
    }
  },
  "cells": [
    {
      "cell_type": "markdown",
      "metadata": {
        "id": "view-in-github",
        "colab_type": "text"
      },
      "source": [
        "<a href=\"https://colab.research.google.com/github/RovicCallorina/58009-DSAA/blob/main/Acitivty%237.ipynb\" target=\"_parent\"><img src=\"https://colab.research.google.com/assets/colab-badge.svg\" alt=\"Open In Colab\"/></a>"
      ]
    },
    {
      "cell_type": "code",
      "execution_count": 8,
      "metadata": {
        "colab": {
          "base_uri": "https://localhost:8080/"
        },
        "id": "tAPZp1LLPeO3",
        "outputId": "3c739133-c903-4b22-ba25-a99134964fbe"
      },
      "outputs": [
        {
          "output_type": "stream",
          "name": "stdout",
          "text": [
            "[{1, 2}, {1, 3}, {1, 5}, {1, 6}, {2, 3}, {2, 4}, {2, 5}, {2, 6}, {3, 4}, {3, 5}]\n"
          ]
        }
      ],
      "source": [
        "class Graph:\n",
        "    def __init__(self, gdict=None):\n",
        "        if gdict is None:\n",
        "            gdict = {}\n",
        "        self.gdict = gdict\n",
        "\n",
        "    def edges(self):\n",
        "        return self.find_edges()\n",
        "\n",
        "\n",
        "    def find_edges(self):\n",
        "        edge_names = []\n",
        "        for vertex in self.gdict:\n",
        "            for next_vertex in self.gdict[vertex]:\n",
        "                if {next_vertex, vertex} not in edge_names:\n",
        "                    edge_names.append({vertex, next_vertex})\n",
        "        return edge_names\n",
        "\n",
        "\n",
        "graph_elements = {1: [2, 3, 5, 6],\n",
        "                  2: [1, 3, 4, 5, 6],\n",
        "                  3: [1, 2, 4, 5],\n",
        "                  4: [2, 3],\n",
        "                  5: [1, 2, 3],\n",
        "                  6: [1, 2]\n",
        "                  }\n",
        "g = Graph(graph_elements)\n",
        "print(g.edges())"
      ]
    },
    {
      "cell_type": "code",
      "source": [
        "class Graph:\n",
        "    def __init__(self, gdict=None):\n",
        "        if gdict is None:\n",
        "            gdict = {}\n",
        "        self.gdict = gdict\n",
        "\n",
        "    def get_vertices(self):\n",
        "        return list(self.gdict.keys())\n",
        "\n",
        "graph_elements = {1: [2, 3, 5, 6],\n",
        "                  2: [1, 3, 4, 5, 6],\n",
        "                  3: [1, 2, 4, 5],\n",
        "                  4: [2, 3],\n",
        "                  5: [1, 2, 3],\n",
        "                  6: [1, 2]\n",
        "                  }\n",
        "g = Graph(graph_elements)\n",
        "print(g.get_vertices())"
      ],
      "metadata": {
        "colab": {
          "base_uri": "https://localhost:8080/"
        },
        "id": "ltE1sS1eUcDJ",
        "outputId": "0052bdce-e088-4180-e39f-3284c039cef0"
      },
      "execution_count": 9,
      "outputs": [
        {
          "output_type": "stream",
          "name": "stdout",
          "text": [
            "[1, 2, 3, 4, 5, 6]\n"
          ]
        }
      ]
    }
  ]
}