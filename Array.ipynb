{
  "nbformat": 4,
  "nbformat_minor": 0,
  "metadata": {
    "colab": {
      "provenance": [],
      "authorship_tag": "ABX9TyO7Zw3vmUmzTPsT5N7KzSS5",
      "include_colab_link": true
    },
    "kernelspec": {
      "name": "python3",
      "display_name": "Python 3"
    },
    "language_info": {
      "name": "python"
    }
  },
  "cells": [
    {
      "cell_type": "markdown",
      "metadata": {
        "id": "view-in-github",
        "colab_type": "text"
      },
      "source": [
        "<a href=\"https://colab.research.google.com/github/RovicCallorina/58009-DSAA/blob/main/Array.ipynb\" target=\"_parent\"><img src=\"https://colab.research.google.com/assets/colab-badge.svg\" alt=\"Open In Colab\"/></a>"
      ]
    },
    {
      "cell_type": "markdown",
      "source": [
        "Accessing the Elements in the Array"
      ],
      "metadata": {
        "id": "Aj9LbefMXlpu"
      }
    },
    {
      "cell_type": "code",
      "execution_count": 18,
      "metadata": {
        "colab": {
          "base_uri": "https://localhost:8080/"
        },
        "id": "fZI27dKWWTCH",
        "outputId": "8c82a76a-14c9-47b0-af72-d95f955f892b"
      },
      "outputs": [
        {
          "output_type": "stream",
          "name": "stdout",
          "text": [
            "['cat', 'dog', 'fish']\n"
          ]
        }
      ],
      "source": [
        "animals = [\"cat\",\"dog\",\"fish\"]\n",
        "x = animals\n",
        "print (x)"
      ]
    },
    {
      "cell_type": "markdown",
      "source": [
        "Modifying the Elements in the Array"
      ],
      "metadata": {
        "id": "voimAzFCXr3d"
      }
    },
    {
      "cell_type": "code",
      "source": [
        "animals = [\"cat\",\"dog\",\"fish\"]\n",
        "animals[0] = \"monkey\"\n",
        "print (animals)"
      ],
      "metadata": {
        "colab": {
          "base_uri": "https://localhost:8080/"
        },
        "id": "bZu55PdfWr6s",
        "outputId": "09d8a08b-7184-43fa-f65c-7c946bbb9c2d"
      },
      "execution_count": 17,
      "outputs": [
        {
          "output_type": "stream",
          "name": "stdout",
          "text": [
            "['monkey', 'dog', 'fish']\n"
          ]
        }
      ]
    },
    {
      "cell_type": "markdown",
      "source": [
        "Length of an Array"
      ],
      "metadata": {
        "id": "qq-PL5xjZfp7"
      }
    },
    {
      "cell_type": "code",
      "source": [
        "animals = [\"cat\",\"dog\",\"fish\"]\n",
        "x = len(animals)\n",
        "print (x)"
      ],
      "metadata": {
        "colab": {
          "base_uri": "https://localhost:8080/"
        },
        "id": "MyQmjvaLZffU",
        "outputId": "f95e4e71-03cd-4b33-98d3-b3d8f818bccb"
      },
      "execution_count": 24,
      "outputs": [
        {
          "output_type": "stream",
          "name": "stdout",
          "text": [
            "3\n"
          ]
        }
      ]
    },
    {
      "cell_type": "markdown",
      "source": [
        "Looping Array Elements"
      ],
      "metadata": {
        "id": "ncRKQhUFYvGh"
      }
    },
    {
      "cell_type": "code",
      "source": [
        "animals = [\"cat\",\"dog\",\"fish\"]\n",
        "for x in animals:\n",
        "    print(x)"
      ],
      "metadata": {
        "colab": {
          "base_uri": "https://localhost:8080/"
        },
        "id": "YrB4-ep7Y2Lh",
        "outputId": "c24edae0-948e-43b3-c057-c66b8b4639ee"
      },
      "execution_count": 20,
      "outputs": [
        {
          "output_type": "stream",
          "name": "stdout",
          "text": [
            "cat\n",
            "dog\n",
            "fish\n"
          ]
        }
      ]
    },
    {
      "cell_type": "markdown",
      "source": [
        "Adding Elements in the Array"
      ],
      "metadata": {
        "id": "5IObKhsYZOCt"
      }
    },
    {
      "cell_type": "code",
      "source": [
        "animals = [\"cat\", \"dog\", \"fish\"]\n",
        "animals.append(\"monkey\") # add something in the index\n",
        "print(animals)"
      ],
      "metadata": {
        "colab": {
          "base_uri": "https://localhost:8080/"
        },
        "id": "xBXuoSt_Y8N_",
        "outputId": "54682e61-1bbe-47db-c68c-abe66dc80762"
      },
      "execution_count": 23,
      "outputs": [
        {
          "output_type": "stream",
          "name": "stdout",
          "text": [
            "['cat', 'dog', 'fish', 'monkey']\n"
          ]
        }
      ]
    },
    {
      "cell_type": "markdown",
      "source": [
        "Removing an Element in the Array"
      ],
      "metadata": {
        "id": "aohe011EZz9u"
      }
    },
    {
      "cell_type": "code",
      "source": [
        "animals = [\"cat\",\"dog\",\"fish\"]\n",
        "animals.pop(0) #(index)\n",
        "print(animals)"
      ],
      "metadata": {
        "colab": {
          "base_uri": "https://localhost:8080/"
        },
        "id": "zTdmFM8dZJje",
        "outputId": "1cbf300e-06e5-4abd-b715-69fd518ab604"
      },
      "execution_count": 28,
      "outputs": [
        {
          "output_type": "stream",
          "name": "stdout",
          "text": [
            "['dog', 'fish']\n"
          ]
        }
      ]
    },
    {
      "cell_type": "markdown",
      "source": [
        "Using insert()"
      ],
      "metadata": {
        "id": "c9rgaIasflr5"
      }
    },
    {
      "cell_type": "code",
      "source": [
        "animals = [\"cat\",\"dog\",\"fish\"]\n",
        "animals.insert(1, \"cow\")\n",
        "print(animals)"
      ],
      "metadata": {
        "colab": {
          "base_uri": "https://localhost:8080/"
        },
        "id": "J7bGhfs-dfj6",
        "outputId": "87432a56-6327-48a7-bd55-8971092da350"
      },
      "execution_count": 38,
      "outputs": [
        {
          "output_type": "stream",
          "name": "stdout",
          "text": [
            "['cat', 'cow', 'dog', 'fish']\n"
          ]
        }
      ]
    },
    {
      "cell_type": "markdown",
      "source": [
        "Deletion\n",
        "clear()"
      ],
      "metadata": {
        "id": "m5R4tzAKfqia"
      }
    },
    {
      "cell_type": "code",
      "source": [
        "animals = [\"cat\",\"dog\",\"fish\"]\n",
        "animals.clear()\n",
        "print (animals)"
      ],
      "metadata": {
        "colab": {
          "base_uri": "https://localhost:8080/"
        },
        "id": "JYocykGbfp3q",
        "outputId": "ea0596df-8d33-4a74-b3cc-c9caf1fcf314"
      },
      "execution_count": 43,
      "outputs": [
        {
          "output_type": "stream",
          "name": "stdout",
          "text": [
            "[]\n"
          ]
        }
      ]
    },
    {
      "cell_type": "markdown",
      "source": [
        "Sorting\n",
        "sort()"
      ],
      "metadata": {
        "id": "FDtc-6BzgXHL"
      }
    },
    {
      "cell_type": "code",
      "source": [
        "animals = [\"cat\",\"dog\",\"fish\"]\n",
        "animals.sort(reverse=True)\n",
        "print (animals)"
      ],
      "metadata": {
        "colab": {
          "base_uri": "https://localhost:8080/"
        },
        "id": "wEkqGHSxgYFK",
        "outputId": "0d1f7855-f977-48ba-cf54-927b650770d6"
      },
      "execution_count": 48,
      "outputs": [
        {
          "output_type": "stream",
          "name": "stdout",
          "text": [
            "['fish', 'dog', 'cat']\n"
          ]
        }
      ]
    }
  ]
}