{
  "nbformat": 4,
  "nbformat_minor": 0,
  "metadata": {
    "colab": {
      "provenance": [],
      "authorship_tag": "ABX9TyPYKybayHSPr9r9bMPN2Rzx",
      "include_colab_link": true
    },
    "kernelspec": {
      "name": "python3",
      "display_name": "Python 3"
    },
    "language_info": {
      "name": "python"
    }
  },
  "cells": [
    {
      "cell_type": "markdown",
      "metadata": {
        "id": "view-in-github",
        "colab_type": "text"
      },
      "source": [
        "<a href=\"https://colab.research.google.com/github/RovicCallorina/58009-DSAA/blob/main/Activity4.ipynb\" target=\"_parent\"><img src=\"https://colab.research.google.com/assets/colab-badge.svg\" alt=\"Open In Colab\"/></a>"
      ]
    },
    {
      "cell_type": "code",
      "execution_count": 1,
      "metadata": {
        "colab": {
          "base_uri": "https://localhost:8080/"
        },
        "id": "oN1g3s_e91Of",
        "outputId": "51f96b13-9ad2-40ff-e63c-c28e3c2beaf7"
      },
      "outputs": [
        {
          "output_type": "stream",
          "name": "stdout",
          "text": [
            "Your current order is:\n",
            "Enter the name of the item to order (or type 'done' to finish ordering): chicken\n",
            "chicken has been added to your order.\n",
            "Enter the name of the item to order (or type 'done' to finish ordering): done\n",
            "Thank you for your order!\n"
          ]
        }
      ],
      "source": [
        "import queue\n",
        "\n",
        "order_queue = queue.Queue()\n",
        "\n",
        "def place_order():\n",
        "    item = input(\"Enter the name of the item to order (or type 'done' to finish ordering): \")\n",
        "    if item.lower() == 'done':\n",
        "        return True\n",
        "    order_queue.put(item)\n",
        "    print(f\"{item} has been added to your order.\")\n",
        "    return False\n",
        "\n",
        "print(\"Your current order is:\")\n",
        "while not order_queue.empty():\n",
        "    item = order_queue.get()\n",
        "    print(item)\n",
        "\n",
        "while True:\n",
        "    if place_order():\n",
        "        break\n",
        "\n",
        "print(\"Thank you for your order!\")"
      ]
    }
  ]
}