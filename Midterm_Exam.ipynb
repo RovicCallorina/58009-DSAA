{
  "nbformat": 4,
  "nbformat_minor": 0,
  "metadata": {
    "colab": {
      "provenance": [],
      "authorship_tag": "ABX9TyMR1bzC+mya8bKOn5uOJxOj",
      "include_colab_link": true
    },
    "kernelspec": {
      "name": "python3",
      "display_name": "Python 3"
    },
    "language_info": {
      "name": "python"
    }
  },
  "cells": [
    {
      "cell_type": "markdown",
      "metadata": {
        "id": "view-in-github",
        "colab_type": "text"
      },
      "source": [
        "<a href=\"https://colab.research.google.com/github/RovicCallorina/58009-DSAA/blob/main/Midterm_Exam.ipynb\" target=\"_parent\"><img src=\"https://colab.research.google.com/assets/colab-badge.svg\" alt=\"Open In Colab\"/></a>"
      ]
    },
    {
      "cell_type": "code",
      "execution_count": 15,
      "metadata": {
        "colab": {
          "base_uri": "https://localhost:8080/"
        },
        "id": "ktzpkBAmBEiF",
        "outputId": "6c9ad026-4c92-4890-806b-e6c86bc020db"
      },
      "outputs": [
        {
          "output_type": "stream",
          "name": "stdout",
          "text": [
            "['A', 'B', 'C', 'D', 'E', 'F', 'G', 'I', 'J', 'K', 'L', 'M', 'N', 'O', 'P']\n",
            "[{'A', 'B'}, {'B', 'E'}, {'B', 'F'}, {'B', 'C'}, {'E', 'C'}, {'C', 'F'}, {'C', 'M'}, {'D', 'C'}, {'C', 'I'}, {'D', 'L'}, {'D', 'K'}, {'E', 'N'}, {'F', 'G'}, {'F', 'I'}, {'G', 'I'}, {'G', 'J'}, {'I', 'J'}, {'K', 'I'}, {'K', 'J'}, {'P', 'L'}, {'M', 'L'}, {'M', 'N'}, {'O', 'M'}, {'P', 'M'}, {'O', 'N'}, {'O', 'P'}]\n"
          ]
        }
      ],
      "source": [
        "  class Graph:\n",
        "    def __init__(self, gdict=None):\n",
        "        if gdict is None:\n",
        "            gdict = {}\n",
        "        self.gdict = gdict\n",
        "\n",
        "    def edges(self):\n",
        "        return self.find_edges()\n",
        "\n",
        "    def find_edges(self):\n",
        "        edge_names = []\n",
        "        for vertex in self.gdict:\n",
        "            for next_vertex in self.gdict[vertex]:\n",
        "                if {next_vertex, vertex} not in edge_names:\n",
        "                    edge_names.append({vertex, next_vertex})\n",
        "        return edge_names\n",
        "\n",
        "    def get_vertices(self):\n",
        "        return list(self.gdict.keys())\n",
        "\n",
        "  graph_elements = {\"A\": [\"B\"],\n",
        "                    \"B\": [\"E\", \"F\", \"C\"],\n",
        "                    \"C\": [\"E\", \"B\", \"F\", \"M\", \"D\", \"I\"],\n",
        "                    \"D\": [\"C\", \"L\", \"K\"],\n",
        "                    \"E\": [\"B\", \"N\", \"C\"],\n",
        "                    \"F\": [\"B\", \"C\", \"G\", \"I\"],\n",
        "                    \"G\": [\"F\", \"I\", \"J\"],\n",
        "                    \"I\": [\"F\", \"G\", \"J\", \"C\", \"K\"],\n",
        "                    \"J\": [\"I\", \"G\", \"K\"],\n",
        "                    \"K\": [\"D\", \"I\", \"J\"],\n",
        "                    \"L\": [\"P\", \"M\", \"D\"],\n",
        "                    \"M\": [\"N\", \"O\", \"P\", \"L\", \"C\"],\n",
        "                    \"N\": [\"E\", \"M\", \"O\"],\n",
        "                    \"O\": [\"N\", \"M\", \"P\"],\n",
        "                    \"P\": [\"O\", \"M\", \"L\"]\n",
        "                    }\n",
        "\n",
        "g = Graph(graph_elements)\n",
        "print(g.get_vertices())\n",
        "print(g.edges())\n"
      ]
    }
  ]
}