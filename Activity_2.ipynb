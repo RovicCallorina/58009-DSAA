{
  "nbformat": 4,
  "nbformat_minor": 0,
  "metadata": {
    "colab": {
      "provenance": [],
      "authorship_tag": "ABX9TyOuA+uj9qSzhIFHY9PsPnai",
      "include_colab_link": true
    },
    "kernelspec": {
      "name": "python3",
      "display_name": "Python 3"
    },
    "language_info": {
      "name": "python"
    }
  },
  "cells": [
    {
      "cell_type": "markdown",
      "metadata": {
        "id": "view-in-github",
        "colab_type": "text"
      },
      "source": [
        "<a href=\"https://colab.research.google.com/github/RovicCallorina/58009-DSAA/blob/main/Activity_2.ipynb\" target=\"_parent\"><img src=\"https://colab.research.google.com/assets/colab-badge.svg\" alt=\"Open In Colab\"/></a>"
      ]
    },
    {
      "cell_type": "code",
      "execution_count": 16,
      "metadata": {
        "colab": {
          "base_uri": "https://localhost:8080/"
        },
        "id": "HVjwbQiOXJh9",
        "outputId": "dd362ccb-3937-429a-c143-d14352562da1"
      },
      "outputs": [
        {
          "output_type": "stream",
          "name": "stdout",
          "text": [
            "2 3 5 7 11 13 17 19 \n",
            "Head: 2\n",
            "Tail: 19\n"
          ]
        }
      ],
      "source": [
        "class Node:\n",
        "    def __init__(self, data):\n",
        "        self.data = data\n",
        "        self.next = None\n",
        "\n",
        "def is_prime(n):\n",
        "    if n <= 1:\n",
        "        return False\n",
        "    if n == 2:\n",
        "        return True\n",
        "    if n % 2 == 0:\n",
        "        return False\n",
        "    for i in range(3, int(n**0.5) + 1, 2):\n",
        "        if n % i == 0:\n",
        "            return False\n",
        "    return True\n",
        "\n",
        "def create_prime_linked_list():\n",
        "    head = None\n",
        "    tail = None\n",
        "\n",
        "    for num in range(2, 20):\n",
        "        if is_prime(num):\n",
        "            new_node = Node(num)\n",
        "            if head is None:\n",
        "                head = new_node\n",
        "                tail = new_node\n",
        "            else:\n",
        "                tail.next = new_node\n",
        "                tail = new_node\n",
        "\n",
        "    return head, tail\n",
        "\n",
        "def display_linked_list(head):\n",
        "    current = head\n",
        "    while current:\n",
        "        print(current.data, end=\" \")\n",
        "        current = current.next\n",
        "    print()\n",
        "\n",
        "prime_head, prime_tail = create_prime_linked_list()\n",
        "display_linked_list(prime_head)\n",
        "print(\"Head:\", prime_head.data)\n",
        "print(\"Tail:\", prime_tail.data)"
      ]
    }
  ]
}