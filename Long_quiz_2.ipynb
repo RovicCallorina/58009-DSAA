{
  "nbformat": 4,
  "nbformat_minor": 0,
  "metadata": {
    "colab": {
      "provenance": [],
      "authorship_tag": "ABX9TyNWEEzIMRS/crGR0P7ihqxK",
      "include_colab_link": true
    },
    "kernelspec": {
      "name": "python3",
      "display_name": "Python 3"
    },
    "language_info": {
      "name": "python"
    }
  },
  "cells": [
    {
      "cell_type": "markdown",
      "metadata": {
        "id": "view-in-github",
        "colab_type": "text"
      },
      "source": [
        "<a href=\"https://colab.research.google.com/github/RovicCallorina/58009-DSAA/blob/main/Long_quiz_2.ipynb\" target=\"_parent\"><img src=\"https://colab.research.google.com/assets/colab-badge.svg\" alt=\"Open In Colab\"/></a>"
      ]
    },
    {
      "cell_type": "code",
      "execution_count": 11,
      "metadata": {
        "colab": {
          "base_uri": "https://localhost:8080/"
        },
        "id": "VeOX_xtlsFi1",
        "outputId": "ad19c595-b4af-4c4b-f8b8-b8e9eb35ac85"
      },
      "outputs": [
        {
          "output_type": "stream",
          "name": "stdout",
          "text": [
            "['H', 'I', 'J', 'K', 'E', 'F', 'M', 'P']\n"
          ]
        }
      ],
      "source": [
        "class Graph:\n",
        "    def __init__(self, gdict=None):\n",
        "        if gdict is None:\n",
        "            gdict = {}\n",
        "        self.gdict = gdict\n",
        "\n",
        "    def vertices(self):\n",
        "        return list(self.gdict.keys())\n",
        "\n",
        "\n",
        "\n",
        "graph_elements = {\n",
        "    'H': ['I', 'K', 'J'],\n",
        "    'I': ['H', 'F', 'E'],\n",
        "    'J': ['H', 'E', 'F'],\n",
        "    'K': ['E', 'H', 'F'],\n",
        "    'E': ['I', 'M', 'K','J'],\n",
        "    'F': ['I', 'K', 'J', 'P'],\n",
        "    'M': ['E'],\n",
        "    'P': ['F']\n",
        "}\n",
        "\n",
        "g = Graph(graph_elements)\n",
        "print(g.vertices())"
      ]
    },
    {
      "cell_type": "code",
      "source": [
        "class Graph:\n",
        "    def __init__(self, gdict=None):\n",
        "        if gdict is None:\n",
        "            gdict = {}\n",
        "        self.gdict = gdict\n",
        "\n",
        "    def vertices(self):\n",
        "        return list(self.gdict.keys())\n",
        "\n",
        "    def edges(self):\n",
        "        edge_list = []\n",
        "        for vertex, adjacents in self.gdict.items():\n",
        "            for adjacent in adjacents:\n",
        "                edge = (vertex, adjacent)\n",
        "                if (adjacent, vertex) not in edge_list:\n",
        "                    edge_list.append(edge)\n",
        "        return edge_list\n",
        "\n",
        "graph_elements = {\n",
        "    'H': ['I', 'K', 'J'],\n",
        "    'I': ['H', 'F', 'E'],\n",
        "    'J': ['H', 'E', 'F'],\n",
        "    'K': ['E', 'H', 'F'],\n",
        "    'E': ['I', 'M', 'K','J'],\n",
        "    'F': ['I', 'K', 'J', 'P'],\n",
        "    'M': ['E'],\n",
        "    'P': ['F']\n",
        "}\n",
        "\n",
        "g = Graph(graph_elements)\n",
        "print (g.vertices())\n",
        "for edge in g.edges():\n",
        "    print(edge)"
      ],
      "metadata": {
        "colab": {
          "base_uri": "https://localhost:8080/"
        },
        "id": "Z5rwg44DypG9",
        "outputId": "22bedd3f-69b0-4f0b-8af4-587a4a15d8f4"
      },
      "execution_count": 21,
      "outputs": [
        {
          "output_type": "stream",
          "name": "stdout",
          "text": [
            "['H', 'I', 'J', 'K', 'E', 'F', 'M', 'P']\n",
            "('H', 'I')\n",
            "('H', 'K')\n",
            "('H', 'J')\n",
            "('I', 'F')\n",
            "('I', 'E')\n",
            "('J', 'E')\n",
            "('J', 'F')\n",
            "('K', 'E')\n",
            "('K', 'F')\n",
            "('E', 'M')\n",
            "('F', 'P')\n"
          ]
        }
      ]
    }
  ]
}